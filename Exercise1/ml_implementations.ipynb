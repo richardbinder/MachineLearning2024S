{
 "cells": [
  {
   "cell_type": "markdown",
   "metadata": {},
   "source": [
    "### Import datasets and basic libraries"
   ]
  },
  {
   "cell_type": "code",
   "execution_count": 2,
   "metadata": {},
   "outputs": [],
   "source": [
    "import pandas as pd\n",
    "import numpy as np\n",
    "\n",
    "dataset = pd.read_csv('./BreastCancer/dataset/breast-cancer-diagnostic.shuf.lrn.csv')\n",
    "test_data = pd.read_csv('./BreastCancer/dataset/breast-cancer-diagnostic.shuf.tes.csv')\n",
    "test_data_class = pd.read_csv('./BreastCancer/dataset/breast-cancer-diagnostic.shuf.sol.ex.csv')"
   ]
  },
  {
   "cell_type": "markdown",
   "metadata": {},
   "source": [
    "## 1. KNN"
   ]
  },
  {
   "cell_type": "code",
   "execution_count": 3,
   "metadata": {},
   "outputs": [
    {
     "name": "stdout",
     "output_type": "stream",
     "text": [
      "The optimal number of neighbors is: 1\n",
      "Accuracy: 0.0\n",
      "F1 Score: 0.0\n",
      "[[-2.31981165e-01  3.89451197e-03 -5.44618879e-01 ...  3.61805382e-01\n",
      "   3.13972024e-01 -2.17363790e-01]\n",
      " [ 5.46570356e-01 -7.25532969e-01  2.34998224e-01 ...  2.13385955e+00\n",
      "   6.05102952e+00  4.61834945e+00]\n",
      " [-1.56176749e-01  2.13186996e+00 -1.00115142e+00 ...  1.23529087e+00\n",
      "  -2.29200367e-01  1.49597645e-01]\n",
      " ...\n",
      " [-1.57133303e-01 -9.61017431e-01 -9.97923036e-02 ... -4.96039993e-01\n",
      "   1.08273604e-01 -4.08866936e-01]\n",
      " [-1.57130990e-01 -1.02360672e-01  5.76812330e-01 ... -7.52331258e-01\n",
      "  -6.85593736e-01 -7.00262264e-01]\n",
      " [-2.32064662e-01 -4.92920268e-01  4.30204391e-02 ... -7.19863971e-02\n",
      "  -3.28835539e-01 -1.05049782e-01]]\n",
      "[[-0.15617887  0.35712121 -1.4436368  ... -0.45885784 -0.61970596\n",
      "  -0.83379689]\n",
      " [-0.23236802 -0.27179461  0.57212994 ...  1.3739862   2.41916679\n",
      "   1.2126989 ]\n",
      " [-0.15803928 -0.19425705 -0.55164246 ... -0.2375355  -0.5891726\n",
      "  -0.3902342 ]\n",
      " ...\n",
      " [-0.15713092 -0.30912752 -0.74127905 ... -0.81267848  1.17533416\n",
      "  -0.68059437]\n",
      " [-0.15804163  0.51793986  0.20456272 ...  0.51673102  1.80046451\n",
      "   1.17129281]\n",
      " [-0.23175029 -0.38092156 -0.52120695 ... -0.21200966  0.63858984\n",
      "  -0.54188399]]\n"
     ]
    },
    {
     "name": "stderr",
     "output_type": "stream",
     "text": [
      "/Library/Frameworks/Python.framework/Versions/3.11/lib/python3.11/site-packages/sklearn/base.py:486: UserWarning: X has feature names, but KNeighborsClassifier was fitted without feature names\n",
      "  warnings.warn(\n"
     ]
    }
   ],
   "source": [
    "from sklearn.preprocessing import StandardScaler\n",
    "from sklearn.metrics import accuracy_score, f1_score\n",
    "from sklearn.neighbors import KNeighborsClassifier\n",
    "from sklearn.model_selection import cross_val_score\n",
    "import numpy as np\n",
    "\n",
    "# Splitting the dataset into attributes (X) and classes (Y)\n",
    "X_dataset = dataset.drop('class', axis=1)\n",
    "Y_classes = dataset['class'].astype(int)\n",
    "\n",
    "# Defining variables for valiation\n",
    "X_testing = test_data\n",
    "Y_validation = test_data_class['class'].astype(int)\n",
    "\n",
    "\n",
    "# Preprocessing the data by scaling it\n",
    "scaler = StandardScaler()\n",
    "X_train = scaler.fit_transform(X_dataset)\n",
    "X_validation = scaler.transform(X_testing)\n",
    "\n",
    "# Finding the best K value\n",
    "# Creating a list of K values\n",
    "k_values = list(range(1, 20))\n",
    "\n",
    "# Creating a list of cross validation scores\n",
    "cv_scores = []\n",
    "\n",
    "for k in k_values:\n",
    "    # Creating the KNN model\n",
    "    knn_model = KNeighborsClassifier(n_neighbors=k, weights='uniform')\n",
    "    \n",
    "    # Doing cross validation\n",
    "    scores = cross_val_score(knn_model, X_dataset, Y_classes, cv=50, scoring='accuracy')\n",
    "    \n",
    "    # Saving the mean of the scores\n",
    "    cv_scores.append(np.mean(scores))\n",
    "\n",
    "# Finding the optimal K value by finding the one with the highest accuracy\n",
    "optimal_k = k_values[np.argmax(cv_scores)]\n",
    "print(f\"The optimal number of neighbors is: {optimal_k}\")\n",
    "\n",
    "\n",
    "# Creating the KNN model\n",
    "\"\"\"\n",
    "n_neighbors: Number of neighbors to use, in this case we are using the optimal_k\n",
    "weights: Weight function used in prediction, in this case we are using uniform.\n",
    "\"\"\"\n",
    "knn_model = KNeighborsClassifier(n_neighbors=optimal_k, weights='uniform')\n",
    "# Training the model\n",
    "knn_model.fit(X_train, Y_classes)\n",
    "\n",
    "# Validating the model\n",
    "Y_predicted = knn_model.predict(X_testing)\n",
    "# Calculating the accuracy of the model\n",
    "print(f'Accuracy: {accuracy_score(Y_validation, Y_predicted)}')\n",
    "\n",
    "# Calculating the F1 Score of the model (This is the one we are interested in for kaggle)\n",
    "f1 = f1_score(Y_validation, Y_predicted, average='weighted')\n",
    "print(f\"F1 Score: {f1}\")\n",
    "\n",
    "print(X_train)\n",
    "print(X_validation)\n"
   ]
  },
  {
   "cell_type": "markdown",
   "metadata": {},
   "source": [
    "## 2. Neural Network"
   ]
  },
  {
   "cell_type": "code",
   "execution_count": 27,
   "metadata": {},
   "outputs": [
    {
     "name": "stdout",
     "output_type": "stream",
     "text": [
      "Accuracy: 1.0\n",
      "F1 Score: 1.0\n"
     ]
    },
    {
     "name": "stderr",
     "output_type": "stream",
     "text": [
      "/Library/Frameworks/Python.framework/Versions/3.11/lib/python3.11/site-packages/sklearn/neural_network/_multilayer_perceptron.py:691: ConvergenceWarning: Stochastic Optimizer: Maximum iterations (100) reached and the optimization hasn't converged yet.\n",
      "  warnings.warn(\n"
     ]
    }
   ],
   "source": [
    "from sklearn.neural_network import MLPClassifier\n",
    "from sklearn.preprocessing import StandardScaler\n",
    "from sklearn.metrics import accuracy_score, f1_score\n",
    "\n",
    "# Splitting the dataset into attributes (X) and classes (Y)\n",
    "X_dataset = dataset.drop('class', axis=1)\n",
    "Y_classes = dataset['class'].astype(int)\n",
    "\n",
    "# Defining variables for valiation\n",
    "X_testing = test_data\n",
    "Y_validation = test_data_class['class'].astype(int)\n",
    "\n",
    "\n",
    "# Preprocessing the data by scaling it\n",
    "scaler = StandardScaler()\n",
    "X_train = scaler.fit_transform(X_dataset)\n",
    "X_validation = scaler.transform(X_testing)\n",
    "\n",
    "\n",
    "# Initializing the MLP model\n",
    "\"\"\"\n",
    "- hidden_layer_sizes is the number of neurons in each layer, each number represents the number of neurons in a layer\n",
    "- max_iter is the number of iterations the model will do\n",
    "- activation is the activation function, in this case we are using the ReLU function (rectified linear unit)\n",
    "- solver is the optimization algorithm, in this case we are using the Adam optimizer\n",
    "- random_state is the seed for the random number generator, so the results are reproducible\n",
    "\"\"\"\n",
    "# While playing with the hidden layers I found that 5 neurons in the first layer and 3 in the second layer gave the best results for breast cancer dataset for this random seed 42\n",
    "# But this is not always the case, if we change the seed we usually get a result of around 0.70\n",
    "neural_network_model = MLPClassifier(hidden_layer_sizes=(5,3), max_iter=100, activation='relu', solver='adam', random_state=42)\n",
    "\n",
    "# Training the model\n",
    "neural_network_model.fit(X_train, Y_classes)\n",
    "\n",
    "# Validating the model\n",
    "Y_predicted = neural_network_model.predict(X_validation)\n",
    "\n",
    "\n",
    "print(f\"Accuracy: {accuracy_score(Y_validation, Y_predicted)}\")\n",
    "print(f\"F1 Score: {f1_score(Y_validation, Y_predicted, average='weighted')}\")\n",
    "\n",
    "\n"
   ]
  },
  {
   "cell_type": "markdown",
   "metadata": {},
   "source": [
    "## 3. Random Forest"
   ]
  },
  {
   "cell_type": "code",
   "execution_count": 33,
   "metadata": {},
   "outputs": [
    {
     "name": "stdout",
     "output_type": "stream",
     "text": [
      "Accuracy: 0.6690140845070423\n",
      "F1 Score: 0.8016877637130801\n"
     ]
    }
   ],
   "source": [
    "from sklearn.ensemble import RandomForestClassifier\n",
    "from sklearn.preprocessing import StandardScaler\n",
    "from sklearn.metrics import accuracy_score, f1_score\n",
    "\n",
    "# Splitting the dataset into attributes (X) and classes (Y)\n",
    "X_dataset = dataset.drop('class', axis=1)\n",
    "Y_classes = dataset['class'].astype(int)\n",
    "\n",
    "# Defining variables for valiation\n",
    "X_testing = test_data\n",
    "Y_validation = test_data_class['class'].astype(int)\n",
    "\n",
    "\n",
    "# Preprocessing the data by scaling it\n",
    "scaler = StandardScaler()\n",
    "X_train = scaler.fit_transform(X_dataset)\n",
    "X_validation = scaler.transform(X_testing)\n",
    "\n",
    "# Initializing the Random Forest model\n",
    "random_forest_model = RandomForestClassifier(\n",
    "                        max_leaf_nodes=2,\n",
    "                        max_features=5,\n",
    "                        max_depth=6,\n",
    "                        random_state=42\n",
    "                    )\n",
    "\n",
    "# Fit the model to the data\n",
    "random_forest_model.fit(X_train, Y_classes)\n",
    "\n",
    "# Predict the classes of the validation set\n",
    "Y_predicted = random_forest_model.predict(X_validation)\n",
    "\n",
    "print(f\"Accuracy: {accuracy_score(Y_validation, Y_predicted)}\")\n",
    "print(f\"F1 Score: {f1_score(Y_validation, Y_predicted, average='weighted')}\")"
   ]
  }
 ],
 "metadata": {
  "kernelspec": {
   "display_name": "Python 3",
   "language": "python",
   "name": "python3"
  },
  "language_info": {
   "codemirror_mode": {
    "name": "ipython",
    "version": 3
   },
   "file_extension": ".py",
   "mimetype": "text/x-python",
   "name": "python",
   "nbconvert_exporter": "python",
   "pygments_lexer": "ipython3",
   "version": "3.11.0"
  }
 },
 "nbformat": 4,
 "nbformat_minor": 2
}
