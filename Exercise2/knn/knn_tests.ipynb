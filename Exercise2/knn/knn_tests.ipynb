{
 "cells": [
  {
   "cell_type": "code",
   "execution_count": 1,
   "metadata": {},
   "outputs": [],
   "source": [
    "# This is our custom implementation of the KNN algorithm, the algorithm is in the path knn/knn_implementation.py\n",
    "from knn_implementation import KNN\n",
    "\n",
    "import numpy as np"
   ]
  },
  {
   "cell_type": "code",
   "execution_count": 8,
   "metadata": {},
   "outputs": [
    {
     "data": {
      "text/plain": [
       "[0.4, 0.4, 0.4]"
      ]
     },
     "execution_count": 8,
     "metadata": {},
     "output_type": "execute_result"
    }
   ],
   "source": [
    "# Basic training and test data\n",
    "X_train = np.array([[1, 2], [2, 3], [3, 4], [4, 5], [5, 6]])\n",
    "y_train = np.array([0, 1, 0, 1, 0])\n",
    "\n",
    "X_test = np.array([[4, 6], [3, 4], [4, 5]])\n",
    "\n",
    "# Initialize the KNN algorithm\n",
    "# Parameters:\n",
    "# k: Number of neighbors to consider (default=3)\n",
    "# distance: Distance metric to use (default='euclidean'), options: 'euclidean', 'manhattan', 'cosine' \n",
    "# weighted: Assign weights to the neighbors based on their distance (default=False)\n",
    "knn = KNN(k=6, distance='cosine', weighted=False)\n",
    "\n",
    "# Function to \"train\" the algorithm, in this case it just stores the training data\n",
    "knn.fit(X_train, y_train)\n",
    "\n",
    "# Function to predict the class of the test data\n",
    "prediction = knn.predict(X_test)\n",
    "\n",
    "prediction"
   ]
  }
 ],
 "metadata": {
  "kernelspec": {
   "display_name": "Python 3",
   "language": "python",
   "name": "python3"
  },
  "language_info": {
   "codemirror_mode": {
    "name": "ipython",
    "version": 3
   },
   "file_extension": ".py",
   "mimetype": "text/x-python",
   "name": "python",
   "nbconvert_exporter": "python",
   "pygments_lexer": "ipython3",
   "version": "3.11.0"
  }
 },
 "nbformat": 4,
 "nbformat_minor": 2
}
