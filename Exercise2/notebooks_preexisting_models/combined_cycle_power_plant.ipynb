{
 "cells": [
  {
   "cell_type": "markdown",
   "metadata": {},
   "source": [
    "## `Combined Cycle Power Plant` "
   ]
  },
  {
   "cell_type": "markdown",
   "metadata": {},
   "source": [
    "### Importing libraries"
   ]
  },
  {
   "cell_type": "code",
   "execution_count": null,
   "metadata": {},
   "outputs": [],
   "source": [
    "from sklearn.model_selection import train_test_split\n",
    "from sklearn.metrics import (\n",
    "    mean_absolute_error,\n",
    "    mean_squared_error,\n",
    "    r2_score\n",
    "    )\n",
    "from sklearn.preprocessing import MinMaxScaler\n",
    "from sklearn.neighbors import KNeighborsRegressor\n",
    "from sklearn.linear_model import SGDRegressor\n",
    "from sklearn.tree import DecisionTreeRegressor\n",
    "from sklearn.model_selection import cross_val_score\n",
    "\n",
    "from sklearn.ensemble import RandomForestRegressor\n",
    "\n",
    "\n",
    "import pandas as pd\n",
    "import numpy as np\n",
    "import time"
   ]
  },
  {
   "cell_type": "markdown",
   "metadata": {},
   "source": [
    "### Preprocessing"
   ]
  },
  {
   "cell_type": "code",
   "execution_count": null,
   "metadata": {},
   "outputs": [],
   "source": [
    "# Load the combined cycle power plant dataset\n",
    "ccpp = pd.read_csv('../datasets/original/ccpp.csv')\n",
    "\n",
    "# Split the dataset into features and target variable\n",
    "X = ccpp.drop('PE', axis=1)\n",
    "y = ccpp['PE']\n",
    "\n",
    "# Split the dataset into training and testing data\n",
    "X_train, X_test, y_train, y_test = train_test_split(X, y, test_size=0.25, random_state=42)\n",
    "\n",
    "# Normalize the data\n",
    "scaler = MinMaxScaler()\n",
    "\n",
    "variables_to_normalize = ['AT', 'V', 'AP', 'RH']\n",
    "\n",
    "# Fit transform varirables AT, V, AP, RH\n",
    "X_train[variables_to_normalize] = scaler.fit_transform(X_train[variables_to_normalize]) \n",
    "X_test[variables_to_normalize] = scaler.transform(X_test[variables_to_normalize])\n",
    "\n",
    "X_train\n",
    " "
   ]
  },
  {
   "cell_type": "markdown",
   "metadata": {},
   "source": [
    "## Tests"
   ]
  },
  {
   "cell_type": "markdown",
   "metadata": {},
   "source": [
    "## Fining optimal K"
   ]
  },
  {
   "cell_type": "code",
   "execution_count": null,
   "metadata": {},
   "outputs": [],
   "source": [
    "# Optimal K with cross-validation cross_val_score\n",
    "k_values = list(range(1, 30))\n",
    "cross_val_scores = []\n",
    "\n",
    "for k in k_values:\n",
    "    knn = KNeighborsRegressor(n_neighbors=k, weights='distance')\n",
    "    cross_val_scores.append(cross_val_score(knn, X_train, y_train, cv=10).mean())\n",
    "    \n",
    "# optimal_k = k_values[np.argmax(cross_val_scores)]\n",
    "\n",
    "\n",
    "# Get the index of the top 3 scores\n",
    "top_3_scores = np.argsort(cross_val_scores)[::-1][:3]\n",
    "\n",
    "# Get the k values for the top 3 scores\n",
    "top_3_k_values = [k_values[i] for i in top_3_scores]\n",
    "\n",
    "top_3_k_values"
   ]
  },
  {
   "cell_type": "markdown",
   "metadata": {},
   "source": [
    "## Attributes importance"
   ]
  },
  {
   "cell_type": "code",
   "execution_count": null,
   "metadata": {},
   "outputs": [],
   "source": [
    "# Train a Random Forest model to get which Features are more important\n",
    "model = RandomForestRegressor(max_leaf_nodes=2,\n",
    "                        max_features=5,\n",
    "                        max_depth=5,\n",
    "                        random_state=42)\n",
    "\n",
    "# Fit the model to the data\n",
    "model.fit(X_train, y_train)\n",
    "\n",
    "# Get the most important Features\n",
    "most_important_attributes = pd.DataFrame(\n",
    "                            model.feature_importances_,\n",
    "                            index = X_train.columns,\n",
    "                            columns=['importance']\n",
    "                        ).sort_values('importance', ascending=False)\n",
    "\n",
    "\n",
    "most_important_attributes\n"
   ]
  },
  {
   "cell_type": "markdown",
   "metadata": {},
   "source": [
    "## KNN - sklearn"
   ]
  },
  {
   "cell_type": "code",
   "execution_count": null,
   "metadata": {},
   "outputs": [],
   "source": [
    "knn = KNeighborsRegressor(n_neighbors=6, weights='uniform')\n",
    "knn.fit(X_train, y_train)\n",
    "\n",
    "runtime_start = time.process_time()\n",
    "runtime_end = time.process_time()\n",
    "\n",
    "y_pred = knn.predict(X_test)\n",
    "runtime = runtime_end - runtime_start\n",
    "\n",
    "# Calculate the metrics\n",
    "mae = mean_absolute_error(y_test, y_pred)\n",
    "mse = mean_squared_error(y_test, y_pred)\n",
    "r2 = r2_score(y_test, y_pred)\n",
    "\n",
    "mae, mse, r2, runtime"
   ]
  },
  {
   "cell_type": "markdown",
   "metadata": {},
   "source": [
    "## Gradient Descent - sklearn"
   ]
  },
  {
   "cell_type": "code",
   "execution_count": null,
   "metadata": {},
   "outputs": [],
   "source": [
    "gd = SGDRegressor()\n",
    "\n",
    "start = time.process_time()\n",
    "gd.fit(X_train, y_train)\n",
    "gd_pred = gd.predict(X_test)\n",
    "end = time.process_time()\n",
    "\n",
    "gd_runtime = end - start\n",
    "\n",
    "gd_mae = mean_absolute_error(y_test, gd_pred)\n",
    "gd_mse = mean_squared_error(y_test, gd_pred)\n",
    "gd_r2 = r2_score(y_test, gd_pred)\n",
    "\n",
    "gd_mae, gd_mse, gd_r2, gd_runtime"
   ]
  },
  {
   "cell_type": "markdown",
   "metadata": {},
   "source": [
    "## Decision Tree Regression - sklearn"
   ]
  },
  {
   "cell_type": "code",
   "execution_count": null,
   "metadata": {},
   "outputs": [],
   "source": [
    "dtr = DecisionTreeRegressor()\n",
    "\n",
    "start = time.process_time()\n",
    "dtr.fit(X_train, y_train)\n",
    "dtr_pred = dtr.predict(X_test)\n",
    "end = time.process_time()\n",
    "\n",
    "dtr_runtime = end - start\n",
    "\n",
    "dtr_mae = mean_absolute_error(y_test, dtr_pred)\n",
    "dtr_mse = mean_squared_error(y_test, dtr_pred)\n",
    "dtr_r2 = r2_score(y_test, dtr_pred)\n",
    "\n",
    "dtr_mae, dtr_mse, dtr_r2, dtr_runtime"
   ]
  }
 ],
 "metadata": {
  "kernelspec": {
   "display_name": "Python 3",
   "language": "python",
   "name": "python3"
  },
  "language_info": {
   "codemirror_mode": {
    "name": "ipython",
    "version": 3
   },
   "file_extension": ".py",
   "mimetype": "text/x-python",
   "name": "python",
   "nbconvert_exporter": "python",
   "pygments_lexer": "ipython3",
   "version": "3.11.9"
  }
 },
 "nbformat": 4,
 "nbformat_minor": 2
}
