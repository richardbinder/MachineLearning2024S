{
 "cells": [
  {
   "cell_type": "markdown",
   "metadata": {},
   "source": [
    "## `Combined Cycle Power Plant` "
   ]
  },
  {
   "cell_type": "markdown",
   "metadata": {},
   "source": [
    "### Importing libraries"
   ]
  },
  {
   "cell_type": "code",
   "metadata": {
    "ExecuteTime": {
     "end_time": "2024-05-25T18:15:54.115967Z",
     "start_time": "2024-05-25T18:15:53.504496Z"
    }
   },
   "source": [
    "from sklearn.model_selection import train_test_split\n",
    "from sklearn.metrics import (\n",
    "    mean_absolute_error,\n",
    "    mean_squared_error,\n",
    "    r2_score\n",
    "    )\n",
    "from sklearn.preprocessing import MinMaxScaler\n",
    "from sklearn.neighbors import KNeighborsRegressor\n",
    "from sklearn.linear_model import SGDRegressor\n",
    "from sklearn.tree import DecisionTreeRegressor\n",
    "from sklearn.model_selection import cross_val_score\n",
    "\n",
    "from sklearn.ensemble import RandomForestRegressor\n",
    "\n",
    "\n",
    "import pandas as pd\n",
    "import numpy as np\n",
    "import time"
   ],
   "outputs": [],
   "execution_count": 1
  },
  {
   "cell_type": "markdown",
   "metadata": {},
   "source": [
    "### Preprocessing"
   ]
  },
  {
   "cell_type": "code",
   "metadata": {
    "ExecuteTime": {
     "end_time": "2024-05-25T18:15:54.136894Z",
     "start_time": "2024-05-25T18:15:54.117268Z"
    }
   },
   "source": [
    "# Load the combined cycle power plant dataset\n",
    "ccpp = pd.read_csv('../datasets/original/ccpp.csv')\n",
    "\n",
    "# Split the dataset into features and target variable\n",
    "X = ccpp.drop('PE', axis=1)\n",
    "y = ccpp['PE']\n",
    "\n",
    "# Split the dataset into training and testing data\n",
    "X_train, X_test, y_train, y_test = train_test_split(X, y, test_size=0.25, random_state=42)\n",
    "\n",
    "# Normalize the data\n",
    "scaler = MinMaxScaler()\n",
    "\n",
    "variables_to_normalize = ['AT', 'V', 'AP', 'RH']\n",
    "\n",
    "# Fit transform varirables AT, V, AP, RH\n",
    "X_train[variables_to_normalize] = scaler.fit_transform(X_train[variables_to_normalize]) \n",
    "X_test[variables_to_normalize] = scaler.transform(X_test[variables_to_normalize])\n",
    "\n",
    "X_train\n",
    " "
   ],
   "outputs": [
    {
     "data": {
      "text/plain": [
       "            AT         V        AP        RH\n",
       "2058  0.464589  0.289493  0.005444  0.492425\n",
       "8042  0.839377  0.712879  0.523385  0.316262\n",
       "7612  0.314448  0.297337  0.506805  0.616168\n",
       "1166  0.386969  0.385261  0.366246  0.878268\n",
       "3597  0.838244  0.751186  0.263796  0.431291\n",
       "...        ...       ...       ...       ...\n",
       "5734  0.692351  0.650493  0.459787  0.612146\n",
       "5191  0.775071  0.719263  0.582529  0.475801\n",
       "5390  0.458640  0.334549  0.557040  0.478885\n",
       "860   0.705949  0.793141  0.441970  0.553291\n",
       "7270  0.130028  0.252098  0.784707  0.821424\n",
       "\n",
       "[7176 rows x 4 columns]"
      ],
      "text/html": [
       "<div>\n",
       "<style scoped>\n",
       "    .dataframe tbody tr th:only-of-type {\n",
       "        vertical-align: middle;\n",
       "    }\n",
       "\n",
       "    .dataframe tbody tr th {\n",
       "        vertical-align: top;\n",
       "    }\n",
       "\n",
       "    .dataframe thead th {\n",
       "        text-align: right;\n",
       "    }\n",
       "</style>\n",
       "<table border=\"1\" class=\"dataframe\">\n",
       "  <thead>\n",
       "    <tr style=\"text-align: right;\">\n",
       "      <th></th>\n",
       "      <th>AT</th>\n",
       "      <th>V</th>\n",
       "      <th>AP</th>\n",
       "      <th>RH</th>\n",
       "    </tr>\n",
       "  </thead>\n",
       "  <tbody>\n",
       "    <tr>\n",
       "      <th>2058</th>\n",
       "      <td>0.464589</td>\n",
       "      <td>0.289493</td>\n",
       "      <td>0.005444</td>\n",
       "      <td>0.492425</td>\n",
       "    </tr>\n",
       "    <tr>\n",
       "      <th>8042</th>\n",
       "      <td>0.839377</td>\n",
       "      <td>0.712879</td>\n",
       "      <td>0.523385</td>\n",
       "      <td>0.316262</td>\n",
       "    </tr>\n",
       "    <tr>\n",
       "      <th>7612</th>\n",
       "      <td>0.314448</td>\n",
       "      <td>0.297337</td>\n",
       "      <td>0.506805</td>\n",
       "      <td>0.616168</td>\n",
       "    </tr>\n",
       "    <tr>\n",
       "      <th>1166</th>\n",
       "      <td>0.386969</td>\n",
       "      <td>0.385261</td>\n",
       "      <td>0.366246</td>\n",
       "      <td>0.878268</td>\n",
       "    </tr>\n",
       "    <tr>\n",
       "      <th>3597</th>\n",
       "      <td>0.838244</td>\n",
       "      <td>0.751186</td>\n",
       "      <td>0.263796</td>\n",
       "      <td>0.431291</td>\n",
       "    </tr>\n",
       "    <tr>\n",
       "      <th>...</th>\n",
       "      <td>...</td>\n",
       "      <td>...</td>\n",
       "      <td>...</td>\n",
       "      <td>...</td>\n",
       "    </tr>\n",
       "    <tr>\n",
       "      <th>5734</th>\n",
       "      <td>0.692351</td>\n",
       "      <td>0.650493</td>\n",
       "      <td>0.459787</td>\n",
       "      <td>0.612146</td>\n",
       "    </tr>\n",
       "    <tr>\n",
       "      <th>5191</th>\n",
       "      <td>0.775071</td>\n",
       "      <td>0.719263</td>\n",
       "      <td>0.582529</td>\n",
       "      <td>0.475801</td>\n",
       "    </tr>\n",
       "    <tr>\n",
       "      <th>5390</th>\n",
       "      <td>0.458640</td>\n",
       "      <td>0.334549</td>\n",
       "      <td>0.557040</td>\n",
       "      <td>0.478885</td>\n",
       "    </tr>\n",
       "    <tr>\n",
       "      <th>860</th>\n",
       "      <td>0.705949</td>\n",
       "      <td>0.793141</td>\n",
       "      <td>0.441970</td>\n",
       "      <td>0.553291</td>\n",
       "    </tr>\n",
       "    <tr>\n",
       "      <th>7270</th>\n",
       "      <td>0.130028</td>\n",
       "      <td>0.252098</td>\n",
       "      <td>0.784707</td>\n",
       "      <td>0.821424</td>\n",
       "    </tr>\n",
       "  </tbody>\n",
       "</table>\n",
       "<p>7176 rows × 4 columns</p>\n",
       "</div>"
      ]
     },
     "execution_count": 2,
     "metadata": {},
     "output_type": "execute_result"
    }
   ],
   "execution_count": 2
  },
  {
   "cell_type": "markdown",
   "metadata": {},
   "source": [
    "## Tests"
   ]
  },
  {
   "cell_type": "markdown",
   "metadata": {},
   "source": [
    "## Fining optimal K"
   ]
  },
  {
   "cell_type": "code",
   "metadata": {
    "ExecuteTime": {
     "end_time": "2024-05-25T18:15:56.723388Z",
     "start_time": "2024-05-25T18:15:54.137750Z"
    }
   },
   "source": [
    "# Optimal K with cross-validation cross_val_score\n",
    "k_values = list(range(1, 30))\n",
    "cross_val_scores = []\n",
    "\n",
    "for k in k_values:\n",
    "    knn = KNeighborsRegressor(n_neighbors=k, weights='distance')\n",
    "    cross_val_scores.append(cross_val_score(knn, X_train, y_train, cv=10).mean())\n",
    "    \n",
    "# optimal_k = k_values[np.argmax(cross_val_scores)]\n",
    "\n",
    "\n",
    "# Get the index of the top 3 scores\n",
    "top_3_scores = np.argsort(cross_val_scores)[::-1][:3]\n",
    "\n",
    "# Get the k values for the top 3 scores\n",
    "top_3_k_values = [k_values[i] for i in top_3_scores]\n",
    "\n",
    "top_3_k_values"
   ],
   "outputs": [
    {
     "data": {
      "text/plain": [
       "[8, 9, 7]"
      ]
     },
     "execution_count": 3,
     "metadata": {},
     "output_type": "execute_result"
    }
   ],
   "execution_count": 3
  },
  {
   "cell_type": "markdown",
   "metadata": {},
   "source": [
    "## Attributes importance"
   ]
  },
  {
   "cell_type": "code",
   "metadata": {
    "ExecuteTime": {
     "end_time": "2024-05-25T18:15:57.100628Z",
     "start_time": "2024-05-25T18:15:56.724477Z"
    }
   },
   "source": [
    "# Train a Random Forest model to get which Features are more important\n",
    "model = RandomForestRegressor(max_leaf_nodes=2,\n",
    "                        max_features=5,\n",
    "                        max_depth=5,\n",
    "                        random_state=42)\n",
    "\n",
    "# Fit the model to the data\n",
    "model.fit(X_train, y_train)\n",
    "\n",
    "# Get the most important Features\n",
    "most_important_attributes = pd.DataFrame(\n",
    "                            model.feature_importances_,\n",
    "                            index = X_train.columns,\n",
    "                            columns=['importance']\n",
    "                        ).sort_values('importance', ascending=False)\n",
    "\n",
    "\n",
    "most_important_attributes\n"
   ],
   "outputs": [
    {
     "data": {
      "text/plain": [
       "    importance\n",
       "AT         1.0\n",
       "V          0.0\n",
       "AP         0.0\n",
       "RH         0.0"
      ],
      "text/html": [
       "<div>\n",
       "<style scoped>\n",
       "    .dataframe tbody tr th:only-of-type {\n",
       "        vertical-align: middle;\n",
       "    }\n",
       "\n",
       "    .dataframe tbody tr th {\n",
       "        vertical-align: top;\n",
       "    }\n",
       "\n",
       "    .dataframe thead th {\n",
       "        text-align: right;\n",
       "    }\n",
       "</style>\n",
       "<table border=\"1\" class=\"dataframe\">\n",
       "  <thead>\n",
       "    <tr style=\"text-align: right;\">\n",
       "      <th></th>\n",
       "      <th>importance</th>\n",
       "    </tr>\n",
       "  </thead>\n",
       "  <tbody>\n",
       "    <tr>\n",
       "      <th>AT</th>\n",
       "      <td>1.0</td>\n",
       "    </tr>\n",
       "    <tr>\n",
       "      <th>V</th>\n",
       "      <td>0.0</td>\n",
       "    </tr>\n",
       "    <tr>\n",
       "      <th>AP</th>\n",
       "      <td>0.0</td>\n",
       "    </tr>\n",
       "    <tr>\n",
       "      <th>RH</th>\n",
       "      <td>0.0</td>\n",
       "    </tr>\n",
       "  </tbody>\n",
       "</table>\n",
       "</div>"
      ]
     },
     "execution_count": 4,
     "metadata": {},
     "output_type": "execute_result"
    }
   ],
   "execution_count": 4
  },
  {
   "cell_type": "markdown",
   "metadata": {},
   "source": [
    "## KNN - sklearn"
   ]
  },
  {
   "cell_type": "code",
   "metadata": {
    "ExecuteTime": {
     "end_time": "2024-05-25T18:15:57.120631Z",
     "start_time": "2024-05-25T18:15:57.102288Z"
    }
   },
   "source": [
    "knn = KNeighborsRegressor(n_neighbors=6, weights='uniform')\n",
    "knn.fit(X_train, y_train)\n",
    "\n",
    "runtime_start = time.process_time()\n",
    "runtime_end = time.process_time()\n",
    "\n",
    "y_pred = knn.predict(X_test)\n",
    "runtime = runtime_end - runtime_start\n",
    "\n",
    "# Calculate the metrics\n",
    "mae = mean_absolute_error(y_test, y_pred)\n",
    "mse = mean_squared_error(y_test, y_pred)\n",
    "r2 = r2_score(y_test, y_pred)\n",
    "\n",
    "mae, mse, r2, runtime"
   ],
   "outputs": [
    {
     "data": {
      "text/plain": [
       "(2.715487040133779,\n",
       " 13.661394512959868,\n",
       " 0.9525809558491174,\n",
       " 2.4746000000241963e-05)"
      ]
     },
     "execution_count": 5,
     "metadata": {},
     "output_type": "execute_result"
    }
   ],
   "execution_count": 5
  },
  {
   "cell_type": "markdown",
   "metadata": {},
   "source": [
    "## Gradient Descent - sklearn"
   ]
  },
  {
   "cell_type": "code",
   "metadata": {
    "ExecuteTime": {
     "end_time": "2024-05-25T18:15:57.298676Z",
     "start_time": "2024-05-25T18:15:57.121378Z"
    }
   },
   "source": [
    "gd = SGDRegressor()\n",
    "\n",
    "start = time.process_time()\n",
    "gd.fit(X_train, y_train)\n",
    "gd_pred = gd.predict(X_test)\n",
    "end = time.process_time()\n",
    "\n",
    "gd_runtime = end - start\n",
    "\n",
    "gd_mae = mean_absolute_error(y_test, gd_pred)\n",
    "gd_mse = mean_squared_error(y_test, gd_pred)\n",
    "gd_r2 = r2_score(y_test, gd_pred)\n",
    "\n",
    "gd_mae, gd_mse, gd_r2, gd_runtime"
   ],
   "outputs": [
    {
     "data": {
      "text/plain": [
       "(3.6079188417051173,\n",
       " 20.193003701335524,\n",
       " 0.9299095759847794,\n",
       " 0.1757067999999995)"
      ]
     },
     "execution_count": 6,
     "metadata": {},
     "output_type": "execute_result"
    }
   ],
   "execution_count": 6
  },
  {
   "cell_type": "markdown",
   "metadata": {},
   "source": [
    "## Decision Tree Regression - sklearn"
   ]
  },
  {
   "cell_type": "code",
   "metadata": {
    "ExecuteTime": {
     "end_time": "2024-05-25T18:15:57.345683Z",
     "start_time": "2024-05-25T18:15:57.299372Z"
    }
   },
   "source": [
    "dtr = DecisionTreeRegressor()\n",
    "\n",
    "start = time.process_time()\n",
    "dtr.fit(X_train, y_train)\n",
    "dtr_pred = dtr.predict(X_test)\n",
    "end = time.process_time()\n",
    "\n",
    "dtr_runtime = end - start\n",
    "\n",
    "dtr_mae = mean_absolute_error(y_test, dtr_pred)\n",
    "dtr_mse = mean_squared_error(y_test, dtr_pred)\n",
    "dtr_r2 = r2_score(y_test, dtr_pred)\n",
    "\n",
    "dtr_mae, dtr_mse, dtr_r2, dtr_runtime"
   ],
   "outputs": [
    {
     "data": {
      "text/plain": [
       "(3.057027591973244, 20.988553219063537, 0.9271482035883106, 0.9549089090000002)"
      ]
     },
     "execution_count": 7,
     "metadata": {},
     "output_type": "execute_result"
    }
   ],
   "execution_count": 7
  }
 ],
 "metadata": {
  "kernelspec": {
   "display_name": "Python 3",
   "language": "python",
   "name": "python3"
  },
  "language_info": {
   "codemirror_mode": {
    "name": "ipython",
    "version": 3
   },
   "file_extension": ".py",
   "mimetype": "text/x-python",
   "name": "python",
   "nbconvert_exporter": "python",
   "pygments_lexer": "ipython3",
   "version": "3.11.9"
  }
 },
 "nbformat": 4,
 "nbformat_minor": 2
}
